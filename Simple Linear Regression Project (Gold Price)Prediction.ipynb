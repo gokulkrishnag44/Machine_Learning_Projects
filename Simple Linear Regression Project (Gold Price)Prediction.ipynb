{
 "cells": [
  {
   "cell_type": "markdown",
   "id": "48102355",
   "metadata": {},
   "source": [
    "# <span style = \"color: green\" >Simple Linear Regression Project (Gold Price Prediction) </span>"
   ]
  },
  {
   "cell_type": "markdown",
   "id": "2e972c7b",
   "metadata": {},
   "source": [
    "***"
   ]
  },
  {
   "cell_type": "markdown",
   "id": "7c57d13c",
   "metadata": {},
   "source": [
    "Of all the precious metals, gold is the most popular as an investment. Investors generally buy gold as a way of diversifying risk, especially through the use of futures contracts and derivatives. The gold market is subject to speculation and volatility as are other markets. Compared to other precious metals used for investment, gold has been the most effective safe haven across a number of countries.<br><br>\n",
    "The Dataset contain gold prices (in USD) from 2001 to 2019.\n",
    "Our goal is to predict where the gold prices will be in the coming years"
   ]
  },
  {
   "cell_type": "markdown",
   "id": "9ab4112a",
   "metadata": {},
   "source": [
    "#### Import the necessary libraries"
   ]
  },
  {
   "cell_type": "code",
   "execution_count": 3,
   "id": "4255e2ef",
   "metadata": {},
   "outputs": [],
   "source": [
    "import pandas as pd\n",
    "import matplotlib.pyplot as plt\n",
    "import seaborn as sns"
   ]
  },
  {
   "cell_type": "markdown",
   "id": "9f81002c",
   "metadata": {},
   "source": [
    "#### Read 'gold_price_usd.csv' & store it in a variable"
   ]
  },
  {
   "cell_type": "code",
   "execution_count": 4,
   "id": "85dae8da",
   "metadata": {},
   "outputs": [],
   "source": [
    "gold=pd.read_csv('gold_price_usd.csv')"
   ]
  },
  {
   "cell_type": "markdown",
   "id": "660c1f06",
   "metadata": {},
   "source": [
    "#### View the first 5 rows"
   ]
  },
  {
   "cell_type": "code",
   "execution_count": 5,
   "id": "b2c5c561",
   "metadata": {},
   "outputs": [
    {
     "data": {
      "text/html": [
       "<div>\n",
       "<style scoped>\n",
       "    .dataframe tbody tr th:only-of-type {\n",
       "        vertical-align: middle;\n",
       "    }\n",
       "\n",
       "    .dataframe tbody tr th {\n",
       "        vertical-align: top;\n",
       "    }\n",
       "\n",
       "    .dataframe thead th {\n",
       "        text-align: right;\n",
       "    }\n",
       "</style>\n",
       "<table border=\"1\" class=\"dataframe\">\n",
       "  <thead>\n",
       "    <tr style=\"text-align: right;\">\n",
       "      <th></th>\n",
       "      <th>Date</th>\n",
       "      <th>USD (AM)</th>\n",
       "    </tr>\n",
       "  </thead>\n",
       "  <tbody>\n",
       "    <tr>\n",
       "      <th>0</th>\n",
       "      <td>2001-01-02</td>\n",
       "      <td>272.80</td>\n",
       "    </tr>\n",
       "    <tr>\n",
       "      <th>1</th>\n",
       "      <td>2001-01-03</td>\n",
       "      <td>269.00</td>\n",
       "    </tr>\n",
       "    <tr>\n",
       "      <th>2</th>\n",
       "      <td>2001-01-04</td>\n",
       "      <td>268.75</td>\n",
       "    </tr>\n",
       "    <tr>\n",
       "      <th>3</th>\n",
       "      <td>2001-01-05</td>\n",
       "      <td>268.00</td>\n",
       "    </tr>\n",
       "    <tr>\n",
       "      <th>4</th>\n",
       "      <td>2001-01-08</td>\n",
       "      <td>268.60</td>\n",
       "    </tr>\n",
       "  </tbody>\n",
       "</table>\n",
       "</div>"
      ],
      "text/plain": [
       "         Date  USD (AM)\n",
       "0  2001-01-02    272.80\n",
       "1  2001-01-03    269.00\n",
       "2  2001-01-04    268.75\n",
       "3  2001-01-05    268.00\n",
       "4  2001-01-08    268.60"
      ]
     },
     "execution_count": 5,
     "metadata": {},
     "output_type": "execute_result"
    }
   ],
   "source": [
    "gold.head()"
   ]
  },
  {
   "cell_type": "markdown",
   "id": "b660ee82",
   "metadata": {},
   "source": [
    "#### Check the information"
   ]
  },
  {
   "cell_type": "code",
   "execution_count": 6,
   "id": "95edbdb4",
   "metadata": {},
   "outputs": [
    {
     "name": "stdout",
     "output_type": "stream",
     "text": [
      "<class 'pandas.core.frame.DataFrame'>\n",
      "RangeIndex: 4718 entries, 0 to 4717\n",
      "Data columns (total 2 columns):\n",
      " #   Column    Non-Null Count  Dtype  \n",
      "---  ------    --------------  -----  \n",
      " 0   Date      4718 non-null   object \n",
      " 1   USD (AM)  4718 non-null   float64\n",
      "dtypes: float64(1), object(1)\n",
      "memory usage: 73.8+ KB\n"
     ]
    }
   ],
   "source": [
    "gold.info()"
   ]
  },
  {
   "cell_type": "markdown",
   "id": "8f82c0da",
   "metadata": {},
   "source": [
    "#### Find the columns"
   ]
  },
  {
   "cell_type": "code",
   "execution_count": 7,
   "id": "8073fab6",
   "metadata": {},
   "outputs": [
    {
     "data": {
      "text/plain": [
       "Index(['Date', 'USD (AM)'], dtype='object')"
      ]
     },
     "execution_count": 7,
     "metadata": {},
     "output_type": "execute_result"
    }
   ],
   "source": [
    "gold.columns"
   ]
  },
  {
   "cell_type": "markdown",
   "id": "33d9321f",
   "metadata": {},
   "source": [
    "#### Rename USD (AM) to Price"
   ]
  },
  {
   "cell_type": "code",
   "execution_count": 27,
   "id": "6616c2a9",
   "metadata": {},
   "outputs": [],
   "source": [
    "gold.rename(columns={'USD (AM)':'Price'},inplace=True)"
   ]
  },
  {
   "cell_type": "code",
   "execution_count": 28,
   "id": "5258ec89",
   "metadata": {},
   "outputs": [
    {
     "data": {
      "text/html": [
       "<div>\n",
       "<style scoped>\n",
       "    .dataframe tbody tr th:only-of-type {\n",
       "        vertical-align: middle;\n",
       "    }\n",
       "\n",
       "    .dataframe tbody tr th {\n",
       "        vertical-align: top;\n",
       "    }\n",
       "\n",
       "    .dataframe thead th {\n",
       "        text-align: right;\n",
       "    }\n",
       "</style>\n",
       "<table border=\"1\" class=\"dataframe\">\n",
       "  <thead>\n",
       "    <tr style=\"text-align: right;\">\n",
       "      <th></th>\n",
       "      <th>Date</th>\n",
       "      <th>Price</th>\n",
       "      <th>Year</th>\n",
       "      <th>Month</th>\n",
       "    </tr>\n",
       "  </thead>\n",
       "  <tbody>\n",
       "    <tr>\n",
       "      <th>0</th>\n",
       "      <td>2001-01-02</td>\n",
       "      <td>272.80</td>\n",
       "      <td>2001</td>\n",
       "      <td>1</td>\n",
       "    </tr>\n",
       "    <tr>\n",
       "      <th>1</th>\n",
       "      <td>2001-01-03</td>\n",
       "      <td>269.00</td>\n",
       "      <td>2001</td>\n",
       "      <td>1</td>\n",
       "    </tr>\n",
       "    <tr>\n",
       "      <th>2</th>\n",
       "      <td>2001-01-04</td>\n",
       "      <td>268.75</td>\n",
       "      <td>2001</td>\n",
       "      <td>1</td>\n",
       "    </tr>\n",
       "    <tr>\n",
       "      <th>3</th>\n",
       "      <td>2001-01-05</td>\n",
       "      <td>268.00</td>\n",
       "      <td>2001</td>\n",
       "      <td>1</td>\n",
       "    </tr>\n",
       "    <tr>\n",
       "      <th>4</th>\n",
       "      <td>2001-01-08</td>\n",
       "      <td>268.60</td>\n",
       "      <td>2001</td>\n",
       "      <td>1</td>\n",
       "    </tr>\n",
       "  </tbody>\n",
       "</table>\n",
       "</div>"
      ],
      "text/plain": [
       "        Date   Price  Year  Month\n",
       "0 2001-01-02  272.80  2001      1\n",
       "1 2001-01-03  269.00  2001      1\n",
       "2 2001-01-04  268.75  2001      1\n",
       "3 2001-01-05  268.00  2001      1\n",
       "4 2001-01-08  268.60  2001      1"
      ]
     },
     "execution_count": 28,
     "metadata": {},
     "output_type": "execute_result"
    }
   ],
   "source": [
    "gold.head()"
   ]
  },
  {
   "cell_type": "code",
   "execution_count": 29,
   "id": "2d1d9750",
   "metadata": {},
   "outputs": [
    {
     "data": {
      "text/plain": [
       "0      2001-01-02\n",
       "1      2001-01-03\n",
       "2      2001-01-04\n",
       "3      2001-01-05\n",
       "4      2001-01-08\n",
       "          ...    \n",
       "4713   2019-08-27\n",
       "4714   2019-08-28\n",
       "4715   2019-08-29\n",
       "4716   2019-08-30\n",
       "4717   2019-09-02\n",
       "Name: Date, Length: 4718, dtype: datetime64[ns]"
      ]
     },
     "execution_count": 29,
     "metadata": {},
     "output_type": "execute_result"
    }
   ],
   "source": [
    "pd.to_datetime(gold['Date'])"
   ]
  },
  {
   "cell_type": "code",
   "execution_count": 10,
   "id": "8225b34e",
   "metadata": {},
   "outputs": [],
   "source": [
    "gold['Date']=pd.to_datetime(gold['Date'])"
   ]
  },
  {
   "cell_type": "code",
   "execution_count": 31,
   "id": "5ce614e7",
   "metadata": {},
   "outputs": [],
   "source": [
    "gold['Year']=gold['Date'].dt.year"
   ]
  },
  {
   "cell_type": "code",
   "execution_count": 32,
   "id": "67eaf0ae",
   "metadata": {},
   "outputs": [],
   "source": [
    "gold['Month']=gold['Date'].dt.month"
   ]
  },
  {
   "cell_type": "code",
   "execution_count": 33,
   "id": "9208ed95",
   "metadata": {},
   "outputs": [
    {
     "data": {
      "text/html": [
       "<div>\n",
       "<style scoped>\n",
       "    .dataframe tbody tr th:only-of-type {\n",
       "        vertical-align: middle;\n",
       "    }\n",
       "\n",
       "    .dataframe tbody tr th {\n",
       "        vertical-align: top;\n",
       "    }\n",
       "\n",
       "    .dataframe thead th {\n",
       "        text-align: right;\n",
       "    }\n",
       "</style>\n",
       "<table border=\"1\" class=\"dataframe\">\n",
       "  <thead>\n",
       "    <tr style=\"text-align: right;\">\n",
       "      <th></th>\n",
       "      <th>Date</th>\n",
       "      <th>Price</th>\n",
       "      <th>Year</th>\n",
       "      <th>Month</th>\n",
       "    </tr>\n",
       "  </thead>\n",
       "  <tbody>\n",
       "    <tr>\n",
       "      <th>0</th>\n",
       "      <td>2001-01-02</td>\n",
       "      <td>272.80</td>\n",
       "      <td>2001</td>\n",
       "      <td>1</td>\n",
       "    </tr>\n",
       "    <tr>\n",
       "      <th>1</th>\n",
       "      <td>2001-01-03</td>\n",
       "      <td>269.00</td>\n",
       "      <td>2001</td>\n",
       "      <td>1</td>\n",
       "    </tr>\n",
       "    <tr>\n",
       "      <th>2</th>\n",
       "      <td>2001-01-04</td>\n",
       "      <td>268.75</td>\n",
       "      <td>2001</td>\n",
       "      <td>1</td>\n",
       "    </tr>\n",
       "    <tr>\n",
       "      <th>3</th>\n",
       "      <td>2001-01-05</td>\n",
       "      <td>268.00</td>\n",
       "      <td>2001</td>\n",
       "      <td>1</td>\n",
       "    </tr>\n",
       "    <tr>\n",
       "      <th>4</th>\n",
       "      <td>2001-01-08</td>\n",
       "      <td>268.60</td>\n",
       "      <td>2001</td>\n",
       "      <td>1</td>\n",
       "    </tr>\n",
       "    <tr>\n",
       "      <th>...</th>\n",
       "      <td>...</td>\n",
       "      <td>...</td>\n",
       "      <td>...</td>\n",
       "      <td>...</td>\n",
       "    </tr>\n",
       "    <tr>\n",
       "      <th>4713</th>\n",
       "      <td>2019-08-27</td>\n",
       "      <td>1531.85</td>\n",
       "      <td>2019</td>\n",
       "      <td>8</td>\n",
       "    </tr>\n",
       "    <tr>\n",
       "      <th>4714</th>\n",
       "      <td>2019-08-28</td>\n",
       "      <td>1541.75</td>\n",
       "      <td>2019</td>\n",
       "      <td>8</td>\n",
       "    </tr>\n",
       "    <tr>\n",
       "      <th>4715</th>\n",
       "      <td>2019-08-29</td>\n",
       "      <td>1536.65</td>\n",
       "      <td>2019</td>\n",
       "      <td>8</td>\n",
       "    </tr>\n",
       "    <tr>\n",
       "      <th>4716</th>\n",
       "      <td>2019-08-30</td>\n",
       "      <td>1526.55</td>\n",
       "      <td>2019</td>\n",
       "      <td>8</td>\n",
       "    </tr>\n",
       "    <tr>\n",
       "      <th>4717</th>\n",
       "      <td>2019-09-02</td>\n",
       "      <td>1523.35</td>\n",
       "      <td>2019</td>\n",
       "      <td>9</td>\n",
       "    </tr>\n",
       "  </tbody>\n",
       "</table>\n",
       "<p>4718 rows × 4 columns</p>\n",
       "</div>"
      ],
      "text/plain": [
       "           Date    Price  Year  Month\n",
       "0    2001-01-02   272.80  2001      1\n",
       "1    2001-01-03   269.00  2001      1\n",
       "2    2001-01-04   268.75  2001      1\n",
       "3    2001-01-05   268.00  2001      1\n",
       "4    2001-01-08   268.60  2001      1\n",
       "...         ...      ...   ...    ...\n",
       "4713 2019-08-27  1531.85  2019      8\n",
       "4714 2019-08-28  1541.75  2019      8\n",
       "4715 2019-08-29  1536.65  2019      8\n",
       "4716 2019-08-30  1526.55  2019      8\n",
       "4717 2019-09-02  1523.35  2019      9\n",
       "\n",
       "[4718 rows x 4 columns]"
      ]
     },
     "execution_count": 33,
     "metadata": {},
     "output_type": "execute_result"
    }
   ],
   "source": [
    "gold"
   ]
  },
  {
   "cell_type": "markdown",
   "id": "0e7710f8",
   "metadata": {},
   "source": [
    "#### Check if there are any missing values in the dataset"
   ]
  },
  {
   "cell_type": "code",
   "execution_count": 34,
   "id": "46c28fb0",
   "metadata": {},
   "outputs": [
    {
     "data": {
      "text/plain": [
       "Date     0\n",
       "Price    0\n",
       "Year     0\n",
       "Month    0\n",
       "dtype: int64"
      ]
     },
     "execution_count": 34,
     "metadata": {},
     "output_type": "execute_result"
    }
   ],
   "source": [
    "gold.isnull().sum()"
   ]
  },
  {
   "cell_type": "markdown",
   "id": "6ba55458",
   "metadata": {},
   "source": [
    "#### Gather the basic statistical information about the dataset"
   ]
  },
  {
   "cell_type": "code",
   "execution_count": 35,
   "id": "6fe620f7",
   "metadata": {},
   "outputs": [
    {
     "data": {
      "text/html": [
       "<div>\n",
       "<style scoped>\n",
       "    .dataframe tbody tr th:only-of-type {\n",
       "        vertical-align: middle;\n",
       "    }\n",
       "\n",
       "    .dataframe tbody tr th {\n",
       "        vertical-align: top;\n",
       "    }\n",
       "\n",
       "    .dataframe thead th {\n",
       "        text-align: right;\n",
       "    }\n",
       "</style>\n",
       "<table border=\"1\" class=\"dataframe\">\n",
       "  <thead>\n",
       "    <tr style=\"text-align: right;\">\n",
       "      <th></th>\n",
       "      <th>Price</th>\n",
       "      <th>Year</th>\n",
       "      <th>Month</th>\n",
       "    </tr>\n",
       "  </thead>\n",
       "  <tbody>\n",
       "    <tr>\n",
       "      <th>count</th>\n",
       "      <td>4718.000000</td>\n",
       "      <td>4718.000000</td>\n",
       "      <td>4718.000000</td>\n",
       "    </tr>\n",
       "    <tr>\n",
       "      <th>mean</th>\n",
       "      <td>959.990812</td>\n",
       "      <td>2009.839339</td>\n",
       "      <td>6.456761</td>\n",
       "    </tr>\n",
       "    <tr>\n",
       "      <th>std</th>\n",
       "      <td>449.456217</td>\n",
       "      <td>5.392467</td>\n",
       "      <td>3.426217</td>\n",
       "    </tr>\n",
       "    <tr>\n",
       "      <th>min</th>\n",
       "      <td>256.700000</td>\n",
       "      <td>2001.000000</td>\n",
       "      <td>1.000000</td>\n",
       "    </tr>\n",
       "    <tr>\n",
       "      <th>25%</th>\n",
       "      <td>449.112500</td>\n",
       "      <td>2005.000000</td>\n",
       "      <td>3.000000</td>\n",
       "    </tr>\n",
       "    <tr>\n",
       "      <th>50%</th>\n",
       "      <td>1113.125000</td>\n",
       "      <td>2010.000000</td>\n",
       "      <td>6.000000</td>\n",
       "    </tr>\n",
       "    <tr>\n",
       "      <th>75%</th>\n",
       "      <td>1293.750000</td>\n",
       "      <td>2014.750000</td>\n",
       "      <td>9.000000</td>\n",
       "    </tr>\n",
       "    <tr>\n",
       "      <th>max</th>\n",
       "      <td>1896.500000</td>\n",
       "      <td>2019.000000</td>\n",
       "      <td>12.000000</td>\n",
       "    </tr>\n",
       "  </tbody>\n",
       "</table>\n",
       "</div>"
      ],
      "text/plain": [
       "             Price         Year        Month\n",
       "count  4718.000000  4718.000000  4718.000000\n",
       "mean    959.990812  2009.839339     6.456761\n",
       "std     449.456217     5.392467     3.426217\n",
       "min     256.700000  2001.000000     1.000000\n",
       "25%     449.112500  2005.000000     3.000000\n",
       "50%    1113.125000  2010.000000     6.000000\n",
       "75%    1293.750000  2014.750000     9.000000\n",
       "max    1896.500000  2019.000000    12.000000"
      ]
     },
     "execution_count": 35,
     "metadata": {},
     "output_type": "execute_result"
    }
   ],
   "source": [
    "gold.describe()"
   ]
  },
  {
   "cell_type": "markdown",
   "id": "8ad500ad",
   "metadata": {},
   "source": [
    "#### Convert Date column from object to datetime format"
   ]
  },
  {
   "cell_type": "code",
   "execution_count": 36,
   "id": "2e63a975",
   "metadata": {},
   "outputs": [
    {
     "name": "stdout",
     "output_type": "stream",
     "text": [
      "<class 'pandas.core.frame.DataFrame'>\n",
      "RangeIndex: 4718 entries, 0 to 4717\n",
      "Data columns (total 4 columns):\n",
      " #   Column  Non-Null Count  Dtype         \n",
      "---  ------  --------------  -----         \n",
      " 0   Date    4718 non-null   datetime64[ns]\n",
      " 1   Price   4718 non-null   float64       \n",
      " 2   Year    4718 non-null   int64         \n",
      " 3   Month   4718 non-null   int64         \n",
      "dtypes: datetime64[ns](1), float64(1), int64(2)\n",
      "memory usage: 147.6 KB\n"
     ]
    }
   ],
   "source": [
    "gold.info()"
   ]
  },
  {
   "cell_type": "markdown",
   "id": "37f41fc8",
   "metadata": {},
   "source": [
    "#### Create a new column with Year"
   ]
  },
  {
   "cell_type": "code",
   "execution_count": 37,
   "id": "2e89fda2",
   "metadata": {},
   "outputs": [
    {
     "data": {
      "text/html": [
       "<div>\n",
       "<style scoped>\n",
       "    .dataframe tbody tr th:only-of-type {\n",
       "        vertical-align: middle;\n",
       "    }\n",
       "\n",
       "    .dataframe tbody tr th {\n",
       "        vertical-align: top;\n",
       "    }\n",
       "\n",
       "    .dataframe thead th {\n",
       "        text-align: right;\n",
       "    }\n",
       "</style>\n",
       "<table border=\"1\" class=\"dataframe\">\n",
       "  <thead>\n",
       "    <tr style=\"text-align: right;\">\n",
       "      <th></th>\n",
       "      <th>Date</th>\n",
       "      <th>Price</th>\n",
       "      <th>Year</th>\n",
       "      <th>Month</th>\n",
       "    </tr>\n",
       "  </thead>\n",
       "  <tbody>\n",
       "    <tr>\n",
       "      <th>0</th>\n",
       "      <td>2001-01-02</td>\n",
       "      <td>272.80</td>\n",
       "      <td>2001</td>\n",
       "      <td>1</td>\n",
       "    </tr>\n",
       "    <tr>\n",
       "      <th>1</th>\n",
       "      <td>2001-01-03</td>\n",
       "      <td>269.00</td>\n",
       "      <td>2001</td>\n",
       "      <td>1</td>\n",
       "    </tr>\n",
       "    <tr>\n",
       "      <th>2</th>\n",
       "      <td>2001-01-04</td>\n",
       "      <td>268.75</td>\n",
       "      <td>2001</td>\n",
       "      <td>1</td>\n",
       "    </tr>\n",
       "    <tr>\n",
       "      <th>3</th>\n",
       "      <td>2001-01-05</td>\n",
       "      <td>268.00</td>\n",
       "      <td>2001</td>\n",
       "      <td>1</td>\n",
       "    </tr>\n",
       "    <tr>\n",
       "      <th>4</th>\n",
       "      <td>2001-01-08</td>\n",
       "      <td>268.60</td>\n",
       "      <td>2001</td>\n",
       "      <td>1</td>\n",
       "    </tr>\n",
       "  </tbody>\n",
       "</table>\n",
       "</div>"
      ],
      "text/plain": [
       "        Date   Price  Year  Month\n",
       "0 2001-01-02  272.80  2001      1\n",
       "1 2001-01-03  269.00  2001      1\n",
       "2 2001-01-04  268.75  2001      1\n",
       "3 2001-01-05  268.00  2001      1\n",
       "4 2001-01-08  268.60  2001      1"
      ]
     },
     "execution_count": 37,
     "metadata": {},
     "output_type": "execute_result"
    }
   ],
   "source": [
    "gold.head()"
   ]
  },
  {
   "cell_type": "markdown",
   "id": "9177126f",
   "metadata": {},
   "source": [
    "#### Create a new column with Months"
   ]
  },
  {
   "cell_type": "code",
   "execution_count": 18,
   "id": "31ac2ca2",
   "metadata": {},
   "outputs": [
    {
     "data": {
      "text/html": [
       "<div>\n",
       "<style scoped>\n",
       "    .dataframe tbody tr th:only-of-type {\n",
       "        vertical-align: middle;\n",
       "    }\n",
       "\n",
       "    .dataframe tbody tr th {\n",
       "        vertical-align: top;\n",
       "    }\n",
       "\n",
       "    .dataframe thead th {\n",
       "        text-align: right;\n",
       "    }\n",
       "</style>\n",
       "<table border=\"1\" class=\"dataframe\">\n",
       "  <thead>\n",
       "    <tr style=\"text-align: right;\">\n",
       "      <th></th>\n",
       "      <th>Date</th>\n",
       "      <th>USD (AM)</th>\n",
       "      <th>Year</th>\n",
       "      <th>Month</th>\n",
       "    </tr>\n",
       "  </thead>\n",
       "  <tbody>\n",
       "    <tr>\n",
       "      <th>0</th>\n",
       "      <td>2001-01-02</td>\n",
       "      <td>272.80</td>\n",
       "      <td>2001</td>\n",
       "      <td>1</td>\n",
       "    </tr>\n",
       "    <tr>\n",
       "      <th>1</th>\n",
       "      <td>2001-01-03</td>\n",
       "      <td>269.00</td>\n",
       "      <td>2001</td>\n",
       "      <td>1</td>\n",
       "    </tr>\n",
       "    <tr>\n",
       "      <th>2</th>\n",
       "      <td>2001-01-04</td>\n",
       "      <td>268.75</td>\n",
       "      <td>2001</td>\n",
       "      <td>1</td>\n",
       "    </tr>\n",
       "    <tr>\n",
       "      <th>3</th>\n",
       "      <td>2001-01-05</td>\n",
       "      <td>268.00</td>\n",
       "      <td>2001</td>\n",
       "      <td>1</td>\n",
       "    </tr>\n",
       "    <tr>\n",
       "      <th>4</th>\n",
       "      <td>2001-01-08</td>\n",
       "      <td>268.60</td>\n",
       "      <td>2001</td>\n",
       "      <td>1</td>\n",
       "    </tr>\n",
       "  </tbody>\n",
       "</table>\n",
       "</div>"
      ],
      "text/plain": [
       "        Date  USD (AM)  Year  Month\n",
       "0 2001-01-02    272.80  2001      1\n",
       "1 2001-01-03    269.00  2001      1\n",
       "2 2001-01-04    268.75  2001      1\n",
       "3 2001-01-05    268.00  2001      1\n",
       "4 2001-01-08    268.60  2001      1"
      ]
     },
     "execution_count": 18,
     "metadata": {},
     "output_type": "execute_result"
    }
   ],
   "source": [
    "gold.head()"
   ]
  },
  {
   "cell_type": "markdown",
   "id": "107fd613",
   "metadata": {},
   "source": [
    "#### See all the years and Months in our dataset"
   ]
  },
  {
   "cell_type": "code",
   "execution_count": 38,
   "id": "3ac278c0",
   "metadata": {},
   "outputs": [
    {
     "data": {
      "text/plain": [
       "array([2001, 2002, 2003, 2004, 2005, 2006, 2007, 2008, 2009, 2010, 2011,\n",
       "       2012, 2013, 2014, 2015, 2016, 2017, 2018, 2019], dtype=int64)"
      ]
     },
     "execution_count": 38,
     "metadata": {},
     "output_type": "execute_result"
    }
   ],
   "source": [
    "import numpy as np\n",
    "gold.Year.unique()"
   ]
  },
  {
   "cell_type": "code",
   "execution_count": 28,
   "id": "d9e2699f",
   "metadata": {},
   "outputs": [
    {
     "data": {
      "text/plain": [
       "array([2001, 2002, 2003, 2004, 2005, 2006, 2007, 2008, 2009, 2010, 2011,\n",
       "       2012, 2013, 2014, 2015, 2016, 2017, 2018, 2019], dtype=int64)"
      ]
     },
     "execution_count": 28,
     "metadata": {},
     "output_type": "execute_result"
    }
   ],
   "source": [
    "#Years"
   ]
  },
  {
   "cell_type": "code",
   "execution_count": 39,
   "id": "2b1dcaa4",
   "metadata": {},
   "outputs": [
    {
     "data": {
      "text/plain": [
       "array([ 1,  2,  3,  4,  5,  6,  7,  8,  9, 10, 11, 12], dtype=int64)"
      ]
     },
     "execution_count": 39,
     "metadata": {},
     "output_type": "execute_result"
    }
   ],
   "source": [
    "gold.Month.unique()"
   ]
  },
  {
   "cell_type": "code",
   "execution_count": 29,
   "id": "6f2b0a1c",
   "metadata": {},
   "outputs": [
    {
     "data": {
      "text/plain": [
       "array([ 1,  2,  3,  4,  5,  6,  7,  8,  9, 10, 11, 12], dtype=int64)"
      ]
     },
     "execution_count": 29,
     "metadata": {},
     "output_type": "execute_result"
    }
   ],
   "source": [
    "#Months"
   ]
  },
  {
   "cell_type": "markdown",
   "id": "c9dbda58",
   "metadata": {},
   "source": [
    "## <span style = \"color: orange\" >Visualization</span>"
   ]
  },
  {
   "cell_type": "markdown",
   "id": "680fae97",
   "metadata": {},
   "source": [
    "### Create a regression plot with x-axis as years and y-axis as Price"
   ]
  },
  {
   "cell_type": "code",
   "execution_count": 40,
   "id": "6d374cc6",
   "metadata": {},
   "outputs": [
    {
     "data": {
      "text/html": [
       "<div>\n",
       "<style scoped>\n",
       "    .dataframe tbody tr th:only-of-type {\n",
       "        vertical-align: middle;\n",
       "    }\n",
       "\n",
       "    .dataframe tbody tr th {\n",
       "        vertical-align: top;\n",
       "    }\n",
       "\n",
       "    .dataframe thead th {\n",
       "        text-align: right;\n",
       "    }\n",
       "</style>\n",
       "<table border=\"1\" class=\"dataframe\">\n",
       "  <thead>\n",
       "    <tr style=\"text-align: right;\">\n",
       "      <th></th>\n",
       "      <th>Date</th>\n",
       "      <th>Price</th>\n",
       "      <th>Year</th>\n",
       "      <th>Month</th>\n",
       "    </tr>\n",
       "  </thead>\n",
       "  <tbody>\n",
       "    <tr>\n",
       "      <th>0</th>\n",
       "      <td>2001-01-02</td>\n",
       "      <td>272.80</td>\n",
       "      <td>2001</td>\n",
       "      <td>1</td>\n",
       "    </tr>\n",
       "    <tr>\n",
       "      <th>1</th>\n",
       "      <td>2001-01-03</td>\n",
       "      <td>269.00</td>\n",
       "      <td>2001</td>\n",
       "      <td>1</td>\n",
       "    </tr>\n",
       "    <tr>\n",
       "      <th>2</th>\n",
       "      <td>2001-01-04</td>\n",
       "      <td>268.75</td>\n",
       "      <td>2001</td>\n",
       "      <td>1</td>\n",
       "    </tr>\n",
       "    <tr>\n",
       "      <th>3</th>\n",
       "      <td>2001-01-05</td>\n",
       "      <td>268.00</td>\n",
       "      <td>2001</td>\n",
       "      <td>1</td>\n",
       "    </tr>\n",
       "    <tr>\n",
       "      <th>4</th>\n",
       "      <td>2001-01-08</td>\n",
       "      <td>268.60</td>\n",
       "      <td>2001</td>\n",
       "      <td>1</td>\n",
       "    </tr>\n",
       "  </tbody>\n",
       "</table>\n",
       "</div>"
      ],
      "text/plain": [
       "        Date   Price  Year  Month\n",
       "0 2001-01-02  272.80  2001      1\n",
       "1 2001-01-03  269.00  2001      1\n",
       "2 2001-01-04  268.75  2001      1\n",
       "3 2001-01-05  268.00  2001      1\n",
       "4 2001-01-08  268.60  2001      1"
      ]
     },
     "execution_count": 40,
     "metadata": {},
     "output_type": "execute_result"
    }
   ],
   "source": [
    "gold.head()"
   ]
  },
  {
   "cell_type": "code",
   "execution_count": 41,
   "id": "72918c2e",
   "metadata": {},
   "outputs": [
    {
     "data": {
      "image/png": "[encoded data removed]",
      "text/plain": [
       "<Figure size 640x480 with 1 Axes>"
      ]
     },
     "metadata": {},
     "output_type": "display_data"
    }
   ],
   "source": [
    "import seaborn as sns\n",
    "\n",
    "\n",
    "sns.regplot(data=gold,x='Year',y='Price')\n",
    "plt.show()"
   ]
  },
  {
   "cell_type": "markdown",
   "id": "87a1fe81",
   "metadata": {},
   "source": [
    "### Plot a histplot to find the variation in price"
   ]
  },
  {
   "cell_type": "code",
   "execution_count": 42,
   "id": "909fd7bb",
   "metadata": {},
   "outputs": [
    {
     "data": {
      "image/png": "[encoded data removed]",
      "text/plain": [
       "<Figure size 640x480 with 1 Axes>"
      ]
     },
     "metadata": {},
     "output_type": "display_data"
    }
   ],
   "source": [
    "sns.histplot(data=gold,x='Price')\n",
    "plt.show()"
   ]
  },
  {
   "cell_type": "markdown",
   "id": "6c2a2c75",
   "metadata": {},
   "source": [
    "### Assign year and price in x and y variables"
   ]
  },
  {
   "cell_type": "code",
   "execution_count": 43,
   "id": "073620bf",
   "metadata": {},
   "outputs": [],
   "source": [
    "x=gold[['Year']]\n",
    "y=gold['Price']"
   ]
  },
  {
   "cell_type": "markdown",
   "id": "56d9d00f",
   "metadata": {},
   "source": [
    "### Split the data into traning and testin set"
   ]
  },
  {
   "cell_type": "markdown",
   "id": "df9f468a",
   "metadata": {},
   "source": [
    "We will train our model on the training set and then use the test set to evaluate the model"
   ]
  },
  {
   "cell_type": "code",
   "execution_count": 44,
   "id": "4bed6865",
   "metadata": {},
   "outputs": [],
   "source": [
    "# import train_test split\n",
    "from sklearn.model_selection import train_test_split"
   ]
  },
  {
   "cell_type": "code",
   "execution_count": 45,
   "id": "e2625dba",
   "metadata": {},
   "outputs": [],
   "source": [
    "x_train,x_test,y_train,y_test=train_test_split(x,y, test_size = 0.3, random_state=100)"
   ]
  },
  {
   "cell_type": "markdown",
   "id": "9403e8e3",
   "metadata": {},
   "source": [
    "## Train Data"
   ]
  },
  {
   "cell_type": "code",
   "execution_count": 46,
   "id": "fe98321c",
   "metadata": {},
   "outputs": [],
   "source": [
    "# import LinearRegression from sklearn\n",
    "from sklearn.linear_model import LinearRegression"
   ]
  },
  {
   "cell_type": "markdown",
   "id": "9b768e74",
   "metadata": {},
   "source": [
    "### Create Linear Regression Model"
   ]
  },
  {
   "cell_type": "code",
   "execution_count": 47,
   "id": "e116db6f",
   "metadata": {},
   "outputs": [],
   "source": [
    "model=LinearRegression()"
   ]
  },
  {
   "cell_type": "markdown",
   "id": "2cf05c9e",
   "metadata": {},
   "source": [
    "### Train the  model"
   ]
  },
  {
   "cell_type": "code",
   "execution_count": 49,
   "id": "2c38af0d",
   "metadata": {},
   "outputs": [
    {
     "data": {
      "text/plain": [
       "LinearRegression()"
      ]
     },
     "execution_count": 49,
     "metadata": {},
     "output_type": "execute_result"
    }
   ],
   "source": [
    "model.fit(x_train,y_train)"
   ]
  },
  {
   "cell_type": "markdown",
   "id": "cf0446f3",
   "metadata": {},
   "source": [
    "### Check the score of our model"
   ]
  },
  {
   "cell_type": "code",
   "execution_count": 50,
   "id": "abe08a84",
   "metadata": {},
   "outputs": [
    {
     "data": {
      "text/plain": [
       "0.7048691960222999"
      ]
     },
     "execution_count": 50,
     "metadata": {},
     "output_type": "execute_result"
    }
   ],
   "source": [
    "model.score(x_train,y_train)"
   ]
  },
  {
   "cell_type": "markdown",
   "id": "2a654304",
   "metadata": {},
   "source": [
    "### Check the coefficient and Intercept"
   ]
  },
  {
   "cell_type": "code",
   "execution_count": 51,
   "id": "eebc79e2",
   "metadata": {},
   "outputs": [
    {
     "name": "stdout",
     "output_type": "stream",
     "text": [
      "[70.17366927]\n"
     ]
    }
   ],
   "source": [
    "model.coef_\n",
    "print(model.coef_)"
   ]
  },
  {
   "cell_type": "code",
   "execution_count": 52,
   "id": "8a6ed6ab",
   "metadata": {},
   "outputs": [
    {
     "name": "stdout",
     "output_type": "stream",
     "text": [
      "-140074.32374779362\n"
     ]
    }
   ],
   "source": [
    "model.intercept_\n",
    "print(model.intercept_)"
   ]
  },
  {
   "cell_type": "markdown",
   "id": "ea41732a",
   "metadata": {},
   "source": [
    "### Make Prediction with Test data"
   ]
  },
  {
   "cell_type": "code",
   "execution_count": 53,
   "id": "cf67622c",
   "metadata": {},
   "outputs": [
    {
     "data": {
      "text/plain": [
       "array([ 553.70946788,  413.36212934, 1185.27249131, ..., 1115.09882204,\n",
       "        343.18846007, 1536.14083765])"
      ]
     },
     "execution_count": 53,
     "metadata": {},
     "output_type": "execute_result"
    }
   ],
   "source": [
    "model.predict(x_test)"
   ]
  },
  {
   "cell_type": "code",
   "execution_count": 54,
   "id": "2109e43d",
   "metadata": {},
   "outputs": [],
   "source": [
    "y_pred=model.predict(x_test)"
   ]
  },
  {
   "cell_type": "markdown",
   "id": "7f984177",
   "metadata": {},
   "source": [
    "### Create a new dataframe with actual and predicted values with year(X_test) as index"
   ]
  },
  {
   "cell_type": "code",
   "execution_count": 55,
   "id": "91d89a5f",
   "metadata": {},
   "outputs": [],
   "source": [
    "import pandas as pd\n",
    "x_test.reset_index(inplace=True,drop=True)\n",
    "x_test['actual']=y_test.values\n",
    "x_test['pedicted']=y_pred"
   ]
  },
  {
   "cell_type": "code",
   "execution_count": 56,
   "id": "1dd76434",
   "metadata": {},
   "outputs": [
    {
     "data": {
      "text/html": [
       "<div>\n",
       "<style scoped>\n",
       "    .dataframe tbody tr th:only-of-type {\n",
       "        vertical-align: middle;\n",
       "    }\n",
       "\n",
       "    .dataframe tbody tr th {\n",
       "        vertical-align: top;\n",
       "    }\n",
       "\n",
       "    .dataframe thead th {\n",
       "        text-align: right;\n",
       "    }\n",
       "</style>\n",
       "<table border=\"1\" class=\"dataframe\">\n",
       "  <thead>\n",
       "    <tr style=\"text-align: right;\">\n",
       "      <th></th>\n",
       "      <th>actual</th>\n",
       "      <th>pedicted</th>\n",
       "    </tr>\n",
       "    <tr>\n",
       "      <th>Year</th>\n",
       "      <th></th>\n",
       "      <th></th>\n",
       "    </tr>\n",
       "  </thead>\n",
       "  <tbody>\n",
       "    <tr>\n",
       "      <th>2004</th>\n",
       "      <td>425.50</td>\n",
       "      <td>553.709468</td>\n",
       "    </tr>\n",
       "    <tr>\n",
       "      <th>2002</th>\n",
       "      <td>307.80</td>\n",
       "      <td>413.362129</td>\n",
       "    </tr>\n",
       "    <tr>\n",
       "      <th>2013</th>\n",
       "      <td>1335.75</td>\n",
       "      <td>1185.272491</td>\n",
       "    </tr>\n",
       "    <tr>\n",
       "      <th>2007</th>\n",
       "      <td>687.25</td>\n",
       "      <td>764.230476</td>\n",
       "    </tr>\n",
       "    <tr>\n",
       "      <th>2009</th>\n",
       "      <td>924.75</td>\n",
       "      <td>904.577814</td>\n",
       "    </tr>\n",
       "    <tr>\n",
       "      <th>...</th>\n",
       "      <td>...</td>\n",
       "      <td>...</td>\n",
       "    </tr>\n",
       "    <tr>\n",
       "      <th>2009</th>\n",
       "      <td>1088.00</td>\n",
       "      <td>904.577814</td>\n",
       "    </tr>\n",
       "    <tr>\n",
       "      <th>2013</th>\n",
       "      <td>1250.75</td>\n",
       "      <td>1185.272491</td>\n",
       "    </tr>\n",
       "    <tr>\n",
       "      <th>2012</th>\n",
       "      <td>1776.50</td>\n",
       "      <td>1115.098822</td>\n",
       "    </tr>\n",
       "    <tr>\n",
       "      <th>2001</th>\n",
       "      <td>276.50</td>\n",
       "      <td>343.188460</td>\n",
       "    </tr>\n",
       "    <tr>\n",
       "      <th>2018</th>\n",
       "      <td>1222.05</td>\n",
       "      <td>1536.140838</td>\n",
       "    </tr>\n",
       "  </tbody>\n",
       "</table>\n",
       "<p>1416 rows × 2 columns</p>\n",
       "</div>"
      ],
      "text/plain": [
       "       actual     pedicted\n",
       "Year                      \n",
       "2004   425.50   553.709468\n",
       "2002   307.80   413.362129\n",
       "2013  1335.75  1185.272491\n",
       "2007   687.25   764.230476\n",
       "2009   924.75   904.577814\n",
       "...       ...          ...\n",
       "2009  1088.00   904.577814\n",
       "2013  1250.75  1185.272491\n",
       "2012  1776.50  1115.098822\n",
       "2001   276.50   343.188460\n",
       "2018  1222.05  1536.140838\n",
       "\n",
       "[1416 rows x 2 columns]"
      ]
     },
     "execution_count": 56,
     "metadata": {},
     "output_type": "execute_result"
    }
   ],
   "source": [
    "x_test.set_index('Year')"
   ]
  },
  {
   "cell_type": "markdown",
   "id": "426592f1",
   "metadata": {},
   "source": [
    "### Check the mean absolute error, mean square error"
   ]
  },
  {
   "cell_type": "code",
   "execution_count": 57,
   "id": "0d85cefc",
   "metadata": {},
   "outputs": [],
   "source": [
    "from sklearn.metrics import mean_absolute_error,mean_squared_error"
   ]
  },
  {
   "cell_type": "code",
   "execution_count": 58,
   "id": "95a241f5",
   "metadata": {},
   "outputs": [
    {
     "data": {
      "text/plain": [
       "186.24273893873823"
      ]
     },
     "execution_count": 58,
     "metadata": {},
     "output_type": "execute_result"
    }
   ],
   "source": [
    "mean_absolute_error(y_test,y_pred)"
   ]
  },
  {
   "cell_type": "code",
   "execution_count": 115,
   "id": "a8808ca4",
   "metadata": {},
   "outputs": [
    {
     "data": {
      "text/plain": [
       "186.2427389387367"
      ]
     },
     "execution_count": 115,
     "metadata": {},
     "output_type": "execute_result"
    }
   ],
   "source": [
    "# Mean absolute error\n"
   ]
  },
  {
   "cell_type": "code",
   "execution_count": 59,
   "id": "bd542ca0",
   "metadata": {},
   "outputs": [
    {
     "data": {
      "text/plain": [
       "58032.97376893202"
      ]
     },
     "execution_count": 59,
     "metadata": {},
     "output_type": "execute_result"
    }
   ],
   "source": [
    "# Mean squared error\n",
    "mean_squared_error(y_test,y_pred)"
   ]
  },
  {
   "cell_type": "markdown",
   "id": "7efec3da",
   "metadata": {},
   "source": [
    "### Predict the prices for the following years\n",
    "   * 2025, 2026, 2027, 2028, 2030"
   ]
  },
  {
   "cell_type": "code",
   "execution_count": 60,
   "id": "737e04f5",
   "metadata": {},
   "outputs": [
    {
     "name": "stderr",
     "output_type": "stream",
     "text": [
      "C:\\Users\\gokul\\Anaconda3\\lib\\site-packages\\sklearn\\base.py:450: UserWarning: X does not have valid feature names, but LinearRegression was fitted with feature names\n",
      "  warnings.warn(\n"
     ]
    }
   ],
   "source": [
    "df2=model.predict([[2025],[2026],[2027],[2028],[2030]])"
   ]
  },
  {
   "cell_type": "code",
   "execution_count": 62,
   "id": "6a2b9736",
   "metadata": {},
   "outputs": [
    {
     "data": {
      "text/html": [
       "<div>\n",
       "<style scoped>\n",
       "    .dataframe tbody tr th:only-of-type {\n",
       "        vertical-align: middle;\n",
       "    }\n",
       "\n",
       "    .dataframe tbody tr th {\n",
       "        vertical-align: top;\n",
       "    }\n",
       "\n",
       "    .dataframe thead th {\n",
       "        text-align: right;\n",
       "    }\n",
       "</style>\n",
       "<table border=\"1\" class=\"dataframe\">\n",
       "  <thead>\n",
       "    <tr style=\"text-align: right;\">\n",
       "      <th></th>\n",
       "      <th>price</th>\n",
       "    </tr>\n",
       "  </thead>\n",
       "  <tbody>\n",
       "    <tr>\n",
       "      <th>2025</th>\n",
       "      <td>2027.356523</td>\n",
       "    </tr>\n",
       "    <tr>\n",
       "      <th>2026</th>\n",
       "      <td>2097.530192</td>\n",
       "    </tr>\n",
       "    <tr>\n",
       "      <th>2027</th>\n",
       "      <td>2167.703861</td>\n",
       "    </tr>\n",
       "    <tr>\n",
       "      <th>2028</th>\n",
       "      <td>2237.877530</td>\n",
       "    </tr>\n",
       "    <tr>\n",
       "      <th>2030</th>\n",
       "      <td>2378.224869</td>\n",
       "    </tr>\n",
       "  </tbody>\n",
       "</table>\n",
       "</div>"
      ],
      "text/plain": [
       "            price\n",
       "2025  2027.356523\n",
       "2026  2097.530192\n",
       "2027  2167.703861\n",
       "2028  2237.877530\n",
       "2030  2378.224869"
      ]
     },
     "execution_count": 62,
     "metadata": {},
     "output_type": "execute_result"
    }
   ],
   "source": [
    "pd.DataFrame(df2,index=[2025,2026,2027,2028,2030],columns=['price'])"
   ]
  },
  {
   "cell_type": "markdown",
   "id": "07afb47f",
   "metadata": {},
   "source": [
    "***"
   ]
  }
 ],
 "metadata": {
  "kernelspec": {
   "display_name": "Python 3 (ipykernel)",
   "language": "python",
   "name": "python3"
  },
  "language_info": {
   "codemirror_mode": {
    "name": "ipython",
    "version": 3
   },
   "file_extension": ".py",
   "mimetype": "text/x-python",
   "name": "python",
   "nbconvert_exporter": "python",
   "pygments_lexer": "ipython3",
   "version": "3.9.13"
  }
 },
 "nbformat": 4,
 "nbformat_minor": 5
}
